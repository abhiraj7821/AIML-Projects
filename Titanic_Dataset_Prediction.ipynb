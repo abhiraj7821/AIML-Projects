{
  "metadata": {
    "kernelspec": {
      "language": "python",
      "display_name": "Python 3",
      "name": "python3"
    },
    "language_info": {
      "name": "python",
      "version": "3.10.12",
      "mimetype": "text/x-python",
      "codemirror_mode": {
        "name": "ipython",
        "version": 3
      },
      "pygments_lexer": "ipython3",
      "nbconvert_exporter": "python",
      "file_extension": ".py"
    },
    "kaggle": {
      "accelerator": "none",
      "dataSources": [
        {
          "sourceId": 3136,
          "databundleVersionId": 26502,
          "sourceType": "competition"
        }
      ],
      "dockerImageVersionId": 30886,
      "isInternetEnabled": true,
      "language": "python",
      "sourceType": "notebook",
      "isGpuEnabled": false
    },
    "colab": {
      "name": "Titanic Dataset Prediction",
      "provenance": [],
      "include_colab_link": true
    }
  },
  "nbformat_minor": 0,
  "nbformat": 4,
  "cells": [
    {
      "cell_type": "markdown",
      "metadata": {
        "id": "view-in-github",
        "colab_type": "text"
      },
      "source": [
        "<a href=\"https://colab.research.google.com/github/abhiraj7821/AIML-Projects/blob/main/Titanic_Dataset_Prediction.ipynb\" target=\"_parent\"><img src=\"https://colab.research.google.com/assets/colab-badge.svg\" alt=\"Open In Colab\"/></a>"
      ]
    },
    {
      "source": [
        "# IMPORTANT: SOME KAGGLE DATA SOURCES ARE PRIVATE\n",
        "# RUN THIS CELL IN ORDER TO IMPORT YOUR KAGGLE DATA SOURCES.\n",
        "import kagglehub\n",
        "kagglehub.login()\n"
      ],
      "metadata": {
        "id": "SiO1meXSDVXm"
      },
      "cell_type": "code",
      "outputs": [],
      "execution_count": null
    },
    {
      "source": [
        "# IMPORTANT: RUN THIS CELL IN ORDER TO IMPORT YOUR KAGGLE DATA SOURCES,\n",
        "# THEN FEEL FREE TO DELETE THIS CELL.\n",
        "# NOTE: THIS NOTEBOOK ENVIRONMENT DIFFERS FROM KAGGLE'S PYTHON\n",
        "# ENVIRONMENT SO THERE MAY BE MISSING LIBRARIES USED BY YOUR\n",
        "# NOTEBOOK.\n",
        "\n",
        "titanic_path = kagglehub.competition_download('titanic')\n",
        "\n",
        "print('Data source import complete.')\n"
      ],
      "metadata": {
        "id": "0YHChzo9DVXn"
      },
      "cell_type": "code",
      "outputs": [],
      "execution_count": null
    },
    {
      "cell_type": "code",
      "source": [
        "# This Python 3 environment comes with many helpful analytics libraries installed\n",
        "# It is defined by the kaggle/python Docker image: https://github.com/kaggle/docker-python\n",
        "# For example, here's several helpful packages to load\n",
        "\n",
        "import numpy as np # linear algebra\n",
        "import pandas as pd # data processing, CSV file I/O (e.g. pd.read_csv)\n",
        "\n",
        "# Input data files are available in the read-only \"../input/\" directory\n",
        "# For example, running this (by clicking run or pressing Shift+Enter) will list all files under the input directory\n",
        "\n",
        "import os\n",
        "for dirname, _, filenames in os.walk('/kaggle/input'):\n",
        "    for filename in filenames:\n",
        "        print(os.path.join(dirname, filename))\n",
        "\n",
        "# You can write up to 20GB to the current directory (/kaggle/working/) that gets preserved as output when you create a version using \"Save & Run All\"\n",
        "# You can also write temporary files to /kaggle/temp/, but they won't be saved outside of the current session"
      ],
      "metadata": {
        "_uuid": "8f2839f25d086af736a60e9eeb907d3b93b6e0e5",
        "_cell_guid": "b1076dfc-b9ad-4769-8c92-a6c4dae69d19",
        "trusted": true,
        "execution": {
          "iopub.status.busy": "2025-02-16T13:34:15.914041Z",
          "iopub.execute_input": "2025-02-16T13:34:15.91443Z",
          "iopub.status.idle": "2025-02-16T13:34:15.921294Z",
          "shell.execute_reply.started": "2025-02-16T13:34:15.914398Z",
          "shell.execute_reply": "2025-02-16T13:34:15.920058Z"
        },
        "id": "flYCjDkQDVXo"
      },
      "outputs": [],
      "execution_count": null
    },
    {
      "cell_type": "code",
      "source": [
        "#Importing required\n",
        "import pandas as pd\n",
        "import numpy as np\n",
        "import matplotlib.pyplot as plt\n",
        "#EDA-Ecploratory Data Analysis\n",
        "#Load the Dataset\n",
        "titanic_train_df=pd.read_csv('/kaggle/input/titanic/train.csv')\n",
        "titanic_test_df=pd.read_csv('/kaggle/input/titanic/test.csv')\n",
        "print(\"Shape of titanic_train_df\",titanic_train_df.shape)\n",
        "print(\"Shape of titanic_test_df\",titanic_test_df.shape)"
      ],
      "metadata": {
        "trusted": true,
        "execution": {
          "iopub.status.busy": "2025-02-16T13:34:15.922715Z",
          "iopub.execute_input": "2025-02-16T13:34:15.923072Z",
          "iopub.status.idle": "2025-02-16T13:34:15.95655Z",
          "shell.execute_reply.started": "2025-02-16T13:34:15.923041Z",
          "shell.execute_reply": "2025-02-16T13:34:15.95553Z"
        },
        "id": "g5Ufle1RDVXo"
      },
      "outputs": [],
      "execution_count": null
    },
    {
      "cell_type": "code",
      "source": [
        "#Understanding the data\n",
        "titanic_train_df.head()"
      ],
      "metadata": {
        "trusted": true,
        "execution": {
          "iopub.status.busy": "2025-02-16T13:34:15.958147Z",
          "iopub.execute_input": "2025-02-16T13:34:15.958544Z",
          "iopub.status.idle": "2025-02-16T13:34:15.973199Z",
          "shell.execute_reply.started": "2025-02-16T13:34:15.958508Z",
          "shell.execute_reply": "2025-02-16T13:34:15.971769Z"
        },
        "id": "_Mj46eCqDVXp"
      },
      "outputs": [],
      "execution_count": null
    },
    {
      "cell_type": "code",
      "source": [
        "titanic_test_df.head()"
      ],
      "metadata": {
        "trusted": true,
        "execution": {
          "iopub.status.busy": "2025-02-16T13:34:15.97476Z",
          "iopub.execute_input": "2025-02-16T13:34:15.975071Z",
          "iopub.status.idle": "2025-02-16T13:34:16.000584Z",
          "shell.execute_reply.started": "2025-02-16T13:34:15.975036Z",
          "shell.execute_reply": "2025-02-16T13:34:15.999339Z"
        },
        "id": "5sIw6uTRDVXp"
      },
      "outputs": [],
      "execution_count": null
    },
    {
      "cell_type": "code",
      "source": [
        "titanic_train_df.describe()"
      ],
      "metadata": {
        "trusted": true,
        "execution": {
          "iopub.status.busy": "2025-02-16T13:34:16.001325Z",
          "iopub.execute_input": "2025-02-16T13:34:16.001682Z",
          "iopub.status.idle": "2025-02-16T13:34:16.039961Z",
          "shell.execute_reply.started": "2025-02-16T13:34:16.001655Z",
          "shell.execute_reply": "2025-02-16T13:34:16.038829Z"
        },
        "id": "ArJy2ttwDVXp"
      },
      "outputs": [],
      "execution_count": null
    },
    {
      "cell_type": "code",
      "source": [
        "titanic_test_df.describe()"
      ],
      "metadata": {
        "trusted": true,
        "execution": {
          "iopub.status.busy": "2025-02-16T13:34:16.041976Z",
          "iopub.execute_input": "2025-02-16T13:34:16.042327Z",
          "iopub.status.idle": "2025-02-16T13:34:16.069938Z",
          "shell.execute_reply.started": "2025-02-16T13:34:16.042298Z",
          "shell.execute_reply": "2025-02-16T13:34:16.068658Z"
        },
        "id": "SGRyfS8zDVXp"
      },
      "outputs": [],
      "execution_count": null
    },
    {
      "cell_type": "code",
      "source": [
        "#finding if dataset have NaN values\n",
        "titanic_train_df.isnull().sum()"
      ],
      "metadata": {
        "trusted": true,
        "execution": {
          "iopub.status.busy": "2025-02-16T13:34:16.071189Z",
          "iopub.execute_input": "2025-02-16T13:34:16.071539Z",
          "iopub.status.idle": "2025-02-16T13:34:16.079943Z",
          "shell.execute_reply.started": "2025-02-16T13:34:16.071512Z",
          "shell.execute_reply": "2025-02-16T13:34:16.078815Z"
        },
        "id": "Tic0FVrhDVXq"
      },
      "outputs": [],
      "execution_count": null
    },
    {
      "cell_type": "code",
      "source": [
        "#finding if test dataset have NaN values\n",
        "titanic_test_df.isnull().sum()"
      ],
      "metadata": {
        "trusted": true,
        "execution": {
          "iopub.status.busy": "2025-02-16T13:34:16.08124Z",
          "iopub.execute_input": "2025-02-16T13:34:16.081705Z",
          "iopub.status.idle": "2025-02-16T13:34:16.100634Z",
          "shell.execute_reply.started": "2025-02-16T13:34:16.081662Z",
          "shell.execute_reply": "2025-02-16T13:34:16.099602Z"
        },
        "id": "4OUInd_EDVXq"
      },
      "outputs": [],
      "execution_count": null
    },
    {
      "cell_type": "code",
      "source": [
        "#Handing NaN values-> using mean i.e we have NaN values in Age column\n",
        "titanic_train_df['Age'].fillna(titanic_train_df['Age'].mean(),inplace=True)\n",
        "#finding if dataset have NaN values\n",
        "titanic_train_df.isnull().sum()"
      ],
      "metadata": {
        "trusted": true,
        "execution": {
          "iopub.status.busy": "2025-02-16T13:34:16.101887Z",
          "iopub.execute_input": "2025-02-16T13:34:16.102175Z",
          "iopub.status.idle": "2025-02-16T13:34:16.121885Z",
          "shell.execute_reply.started": "2025-02-16T13:34:16.10215Z",
          "shell.execute_reply": "2025-02-16T13:34:16.120676Z"
        },
        "id": "_M4K-FFFDVXq"
      },
      "outputs": [],
      "execution_count": null
    },
    {
      "cell_type": "code",
      "source": [
        "#Handing NaN values-> using mean i.e we have NaN values in Age column\n",
        "titanic_test_df['Age'].fillna(titanic_test_df['Age'].mean(),inplace=True)\n",
        "titanic_test_df['Fare'].fillna(titanic_test_df['Fare'].mean(),inplace=True)\n",
        "#finding if dataset have NaN values\n",
        "titanic_test_df.isnull().sum()"
      ],
      "metadata": {
        "trusted": true,
        "execution": {
          "iopub.status.busy": "2025-02-16T13:34:16.125321Z",
          "iopub.execute_input": "2025-02-16T13:34:16.125745Z",
          "iopub.status.idle": "2025-02-16T13:34:16.14284Z",
          "shell.execute_reply.started": "2025-02-16T13:34:16.125695Z",
          "shell.execute_reply": "2025-02-16T13:34:16.14153Z"
        },
        "id": "dKx0eBHcDVXq"
      },
      "outputs": [],
      "execution_count": null
    },
    {
      "cell_type": "code",
      "source": [
        "#prepare X_train,y_train,X_test,y_test\n",
        "#Feature Engneering\n",
        "titanic_train_df['Sex'] = titanic_train_df['Sex'].str.lower().str.strip().map({'male': 0, 'female': 1})\n",
        "titanic_test_df['Sex'] = titanic_test_df['Sex'].str.lower().str.strip().map({'male': 0, 'female':1})"
      ],
      "metadata": {
        "trusted": true,
        "execution": {
          "iopub.status.busy": "2025-02-16T13:34:16.14436Z",
          "iopub.execute_input": "2025-02-16T13:34:16.144789Z",
          "iopub.status.idle": "2025-02-16T13:34:16.168696Z",
          "shell.execute_reply.started": "2025-02-16T13:34:16.144757Z",
          "shell.execute_reply": "2025-02-16T13:34:16.167581Z"
        },
        "id": "g4n9mt2eDVXr"
      },
      "outputs": [],
      "execution_count": null
    },
    {
      "cell_type": "code",
      "source": [
        "#Defining X_train,y_train\n",
        "X_train=titanic_train_df[['Pclass','Sex','Age','SibSp','Parch','Fare']]\n",
        "y_train=titanic_train_df['Survived']"
      ],
      "metadata": {
        "trusted": true,
        "execution": {
          "iopub.status.busy": "2025-02-16T13:34:16.17048Z",
          "iopub.execute_input": "2025-02-16T13:34:16.170844Z",
          "iopub.status.idle": "2025-02-16T13:34:16.187887Z",
          "shell.execute_reply.started": "2025-02-16T13:34:16.170816Z",
          "shell.execute_reply": "2025-02-16T13:34:16.186686Z"
        },
        "id": "fH2am5O5DVXr"
      },
      "outputs": [],
      "execution_count": null
    },
    {
      "cell_type": "code",
      "source": [
        "X_train.isnull().sum()"
      ],
      "metadata": {
        "trusted": true,
        "execution": {
          "iopub.status.busy": "2025-02-16T13:34:16.189758Z",
          "iopub.execute_input": "2025-02-16T13:34:16.190197Z",
          "iopub.status.idle": "2025-02-16T13:34:16.207551Z",
          "shell.execute_reply.started": "2025-02-16T13:34:16.190164Z",
          "shell.execute_reply": "2025-02-16T13:34:16.206537Z"
        },
        "id": "9aNgP_kHDVXr"
      },
      "outputs": [],
      "execution_count": null
    },
    {
      "cell_type": "code",
      "source": [
        "y_train.isnull().sum()"
      ],
      "metadata": {
        "trusted": true,
        "execution": {
          "iopub.status.busy": "2025-02-16T13:34:16.20875Z",
          "iopub.execute_input": "2025-02-16T13:34:16.209147Z",
          "iopub.status.idle": "2025-02-16T13:34:16.226946Z",
          "shell.execute_reply.started": "2025-02-16T13:34:16.209108Z",
          "shell.execute_reply": "2025-02-16T13:34:16.225834Z"
        },
        "id": "0jioKkqaDVXr"
      },
      "outputs": [],
      "execution_count": null
    },
    {
      "cell_type": "code",
      "source": [
        "#Defining y_test\n",
        "X_test=titanic_test_df[['Pclass','Sex','Age','SibSp','Parch','Fare']]\n",
        "X_test.isnull().sum()"
      ],
      "metadata": {
        "trusted": true,
        "execution": {
          "iopub.status.busy": "2025-02-16T13:34:16.22803Z",
          "iopub.execute_input": "2025-02-16T13:34:16.228397Z",
          "iopub.status.idle": "2025-02-16T13:34:16.247923Z",
          "shell.execute_reply.started": "2025-02-16T13:34:16.228359Z",
          "shell.execute_reply": "2025-02-16T13:34:16.246541Z"
        },
        "id": "pc9lsEa3DVXr"
      },
      "outputs": [],
      "execution_count": null
    },
    {
      "cell_type": "code",
      "source": [
        "# Model Preperation\n",
        "from sklearn.linear_model import LinearRegression\n",
        "model=LinearRegression()\n",
        "#train the model\n",
        "model.fit(X_train,y_train)\n",
        "#test the model\n",
        "y_pred=model.predict(X_test)\n",
        "y_pred"
      ],
      "metadata": {
        "trusted": true,
        "execution": {
          "iopub.status.busy": "2025-02-16T13:34:16.248969Z",
          "iopub.execute_input": "2025-02-16T13:34:16.249369Z",
          "iopub.status.idle": "2025-02-16T13:34:16.275158Z",
          "shell.execute_reply.started": "2025-02-16T13:34:16.249336Z",
          "shell.execute_reply": "2025-02-16T13:34:16.273968Z"
        },
        "id": "yHoLjqJBDVXs"
      },
      "outputs": [],
      "execution_count": null
    },
    {
      "cell_type": "code",
      "source": [
        "print(\"Shape of titanic_train_df\",titanic_train_df.shape)\n",
        "print(\"Shape of titanic_test_df\",titanic_test_df.shape)"
      ],
      "metadata": {
        "trusted": true,
        "execution": {
          "iopub.status.busy": "2025-02-16T13:34:16.277881Z",
          "iopub.execute_input": "2025-02-16T13:34:16.278195Z",
          "iopub.status.idle": "2025-02-16T13:34:16.285012Z",
          "shell.execute_reply.started": "2025-02-16T13:34:16.278168Z",
          "shell.execute_reply": "2025-02-16T13:34:16.283796Z"
        },
        "id": "_oyvTQwIDVXs"
      },
      "outputs": [],
      "execution_count": null
    },
    {
      "cell_type": "code",
      "source": [
        "y_pred_df=pd.DataFrame(y_pred)\n",
        "y_pred_df = (y_pred_df >= 0.6).astype(int)\n",
        "test_PassengerIds=titanic_test_df['PassengerId']"
      ],
      "metadata": {
        "trusted": true,
        "execution": {
          "iopub.status.busy": "2025-02-16T13:34:16.286106Z",
          "iopub.execute_input": "2025-02-16T13:34:16.286441Z",
          "iopub.status.idle": "2025-02-16T13:34:16.302948Z",
          "shell.execute_reply.started": "2025-02-16T13:34:16.286414Z",
          "shell.execute_reply": "2025-02-16T13:34:16.301667Z"
        },
        "id": "GS707aUsDVXs"
      },
      "outputs": [],
      "execution_count": null
    },
    {
      "cell_type": "code",
      "source": [
        "import pandas as pd\n",
        "\n",
        "# Ensure both are 1D Series\n",
        "y_pred_df = y_pred_df.squeeze().reset_index(drop=True)\n",
        "test_PassengerIds = test_PassengerIds.squeeze().reset_index(drop=True)\n",
        "\n",
        "# Combine into a DataFrame\n",
        "gender_submission_Final_pridiction = pd.DataFrame({\n",
        "    'PassengerId': test_PassengerIds,\n",
        "    'Survived': y_pred_df\n",
        "})\n",
        "\n",
        "\n",
        "gender_submission_Final_pridiction"
      ],
      "metadata": {
        "trusted": true,
        "execution": {
          "iopub.status.busy": "2025-02-16T13:34:16.3042Z",
          "iopub.execute_input": "2025-02-16T13:34:16.30459Z",
          "iopub.status.idle": "2025-02-16T13:34:16.326189Z",
          "shell.execute_reply.started": "2025-02-16T13:34:16.304561Z",
          "shell.execute_reply": "2025-02-16T13:34:16.325074Z"
        },
        "id": "8IoUdARHDVXs"
      },
      "outputs": [],
      "execution_count": null
    },
    {
      "cell_type": "code",
      "source": [
        "#Generating a Csv Fine for Pridiction\n",
        "gender_submission_Final_pridiction.to_csv('gender_submission_Final_pridiction.csv', index=False)"
      ],
      "metadata": {
        "trusted": true,
        "execution": {
          "iopub.status.busy": "2025-02-16T13:50:43.432723Z",
          "iopub.execute_input": "2025-02-16T13:50:43.433168Z",
          "iopub.status.idle": "2025-02-16T13:50:43.439442Z",
          "shell.execute_reply.started": "2025-02-16T13:50:43.433135Z",
          "shell.execute_reply": "2025-02-16T13:50:43.43843Z"
        },
        "id": "SnuGruRVDVXt"
      },
      "outputs": [],
      "execution_count": null
    }
  ]
}