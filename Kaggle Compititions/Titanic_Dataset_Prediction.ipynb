{
  "metadata": {
    "kernelspec": {
      "language": "python",
      "display_name": "Python 3",
      "name": "python3"
    },
    "language_info": {
      "name": "python",
      "version": "3.10.12",
      "mimetype": "text/x-python",
      "codemirror_mode": {
        "name": "ipython",
        "version": 3
      },
      "pygments_lexer": "ipython3",
      "nbconvert_exporter": "python",
      "file_extension": ".py"
    },
    "kaggle": {
      "accelerator": "none",
      "dataSources": [
        {
          "sourceId": 3136,
          "databundleVersionId": 26502,
          "sourceType": "competition"
        }
      ],
      "dockerImageVersionId": 30886,
      "isInternetEnabled": true,
      "language": "python",
      "sourceType": "notebook",
      "isGpuEnabled": false
    },
    "colab": {
      "name": "Titanic Dataset Prediction",
      "provenance": [],
      "include_colab_link": true
    },
    "widgets": {
      "application/vnd.jupyter.widget-state+json": {
        "702061be3a284e058d5fc753e62c8132": {
          "model_module": "@jupyter-widgets/controls",
          "model_name": "VBoxModel",
          "model_module_version": "1.5.0",
          "state": {
            "_dom_classes": [],
            "_model_module": "@jupyter-widgets/controls",
            "_model_module_version": "1.5.0",
            "_model_name": "VBoxModel",
            "_view_count": null,
            "_view_module": "@jupyter-widgets/controls",
            "_view_module_version": "1.5.0",
            "_view_name": "VBoxView",
            "box_style": "",
            "children": [
              "IPY_MODEL_c46efef48ac042e28895d1bd5e7bf33a",
              "IPY_MODEL_59761905751b4117887e906656f12eb3",
              "IPY_MODEL_577e04e221934685a81431df94893cf1",
              "IPY_MODEL_9574a7f0189646449d932b0dc69aca73",
              "IPY_MODEL_ef264a7210d24ddf90f787bce8796a0c"
            ],
            "layout": "IPY_MODEL_932322ac69094a85b2ba8215d2661a4d"
          }
        },
        "c46efef48ac042e28895d1bd5e7bf33a": {
          "model_module": "@jupyter-widgets/controls",
          "model_name": "HTMLModel",
          "model_module_version": "1.5.0",
          "state": {
            "_dom_classes": [],
            "_model_module": "@jupyter-widgets/controls",
            "_model_module_version": "1.5.0",
            "_model_name": "HTMLModel",
            "_view_count": null,
            "_view_module": "@jupyter-widgets/controls",
            "_view_module_version": "1.5.0",
            "_view_name": "HTMLView",
            "description": "",
            "description_tooltip": null,
            "layout": "IPY_MODEL_2e87ed7ab9f54d2e8629e8d7c2b01c6a",
            "placeholder": "​",
            "style": "IPY_MODEL_4427c67b5d214093a90bde80d89a6326",
            "value": "<center> <img\nsrc=https://www.kaggle.com/static/images/site-logo.png\nalt='Kaggle'> <br> Create an API token from <a\nhref=\"https://www.kaggle.com/settings/account\" target=\"_blank\">your Kaggle\nsettings page</a> and paste it below along with your Kaggle username. <br> </center>"
          }
        },
        "59761905751b4117887e906656f12eb3": {
          "model_module": "@jupyter-widgets/controls",
          "model_name": "TextModel",
          "model_module_version": "1.5.0",
          "state": {
            "_dom_classes": [],
            "_model_module": "@jupyter-widgets/controls",
            "_model_module_version": "1.5.0",
            "_model_name": "TextModel",
            "_view_count": null,
            "_view_module": "@jupyter-widgets/controls",
            "_view_module_version": "1.5.0",
            "_view_name": "TextView",
            "continuous_update": true,
            "description": "Username:",
            "description_tooltip": null,
            "disabled": false,
            "layout": "IPY_MODEL_bb2f11a9acd04c0bbae2e56b53a4d835",
            "placeholder": "​",
            "style": "IPY_MODEL_dace3e542d3b477c99fd974a5c775f9a",
            "value": ""
          }
        },
        "577e04e221934685a81431df94893cf1": {
          "model_module": "@jupyter-widgets/controls",
          "model_name": "PasswordModel",
          "model_module_version": "1.5.0",
          "state": {
            "_dom_classes": [],
            "_model_module": "@jupyter-widgets/controls",
            "_model_module_version": "1.5.0",
            "_model_name": "PasswordModel",
            "_view_count": null,
            "_view_module": "@jupyter-widgets/controls",
            "_view_module_version": "1.5.0",
            "_view_name": "PasswordView",
            "continuous_update": true,
            "description": "Token:",
            "description_tooltip": null,
            "disabled": false,
            "layout": "IPY_MODEL_c612c82b289f4cf5ba90f2ec88394cd4",
            "placeholder": "​",
            "style": "IPY_MODEL_67539c1f926e4a23aed412cc68ac10b0",
            "value": ""
          }
        },
        "9574a7f0189646449d932b0dc69aca73": {
          "model_module": "@jupyter-widgets/controls",
          "model_name": "ButtonModel",
          "model_module_version": "1.5.0",
          "state": {
            "_dom_classes": [],
            "_model_module": "@jupyter-widgets/controls",
            "_model_module_version": "1.5.0",
            "_model_name": "ButtonModel",
            "_view_count": null,
            "_view_module": "@jupyter-widgets/controls",
            "_view_module_version": "1.5.0",
            "_view_name": "ButtonView",
            "button_style": "",
            "description": "Login",
            "disabled": false,
            "icon": "",
            "layout": "IPY_MODEL_01d9a8bcb9f343b6bed53bc98efdaf98",
            "style": "IPY_MODEL_cca1a03f1bea49d69e7d591c6963ccde",
            "tooltip": ""
          }
        },
        "ef264a7210d24ddf90f787bce8796a0c": {
          "model_module": "@jupyter-widgets/controls",
          "model_name": "HTMLModel",
          "model_module_version": "1.5.0",
          "state": {
            "_dom_classes": [],
            "_model_module": "@jupyter-widgets/controls",
            "_model_module_version": "1.5.0",
            "_model_name": "HTMLModel",
            "_view_count": null,
            "_view_module": "@jupyter-widgets/controls",
            "_view_module_version": "1.5.0",
            "_view_name": "HTMLView",
            "description": "",
            "description_tooltip": null,
            "layout": "IPY_MODEL_09bdf468290c4862a83b498f87a8dde6",
            "placeholder": "​",
            "style": "IPY_MODEL_6d2584bcb62f4f0fa1825f84e238a2aa",
            "value": "\n<b>Thank You</b></center>"
          }
        },
        "932322ac69094a85b2ba8215d2661a4d": {
          "model_module": "@jupyter-widgets/base",
          "model_name": "LayoutModel",
          "model_module_version": "1.2.0",
          "state": {
            "_model_module": "@jupyter-widgets/base",
            "_model_module_version": "1.2.0",
            "_model_name": "LayoutModel",
            "_view_count": null,
            "_view_module": "@jupyter-widgets/base",
            "_view_module_version": "1.2.0",
            "_view_name": "LayoutView",
            "align_content": null,
            "align_items": "center",
            "align_self": null,
            "border": null,
            "bottom": null,
            "display": "flex",
            "flex": null,
            "flex_flow": "column",
            "grid_area": null,
            "grid_auto_columns": null,
            "grid_auto_flow": null,
            "grid_auto_rows": null,
            "grid_column": null,
            "grid_gap": null,
            "grid_row": null,
            "grid_template_areas": null,
            "grid_template_columns": null,
            "grid_template_rows": null,
            "height": null,
            "justify_content": null,
            "justify_items": null,
            "left": null,
            "margin": null,
            "max_height": null,
            "max_width": null,
            "min_height": null,
            "min_width": null,
            "object_fit": null,
            "object_position": null,
            "order": null,
            "overflow": null,
            "overflow_x": null,
            "overflow_y": null,
            "padding": null,
            "right": null,
            "top": null,
            "visibility": null,
            "width": "50%"
          }
        },
        "2e87ed7ab9f54d2e8629e8d7c2b01c6a": {
          "model_module": "@jupyter-widgets/base",
          "model_name": "LayoutModel",
          "model_module_version": "1.2.0",
          "state": {
            "_model_module": "@jupyter-widgets/base",
            "_model_module_version": "1.2.0",
            "_model_name": "LayoutModel",
            "_view_count": null,
            "_view_module": "@jupyter-widgets/base",
            "_view_module_version": "1.2.0",
            "_view_name": "LayoutView",
            "align_content": null,
            "align_items": null,
            "align_self": null,
            "border": null,
            "bottom": null,
            "display": null,
            "flex": null,
            "flex_flow": null,
            "grid_area": null,
            "grid_auto_columns": null,
            "grid_auto_flow": null,
            "grid_auto_rows": null,
            "grid_column": null,
            "grid_gap": null,
            "grid_row": null,
            "grid_template_areas": null,
            "grid_template_columns": null,
            "grid_template_rows": null,
            "height": null,
            "justify_content": null,
            "justify_items": null,
            "left": null,
            "margin": null,
            "max_height": null,
            "max_width": null,
            "min_height": null,
            "min_width": null,
            "object_fit": null,
            "object_position": null,
            "order": null,
            "overflow": null,
            "overflow_x": null,
            "overflow_y": null,
            "padding": null,
            "right": null,
            "top": null,
            "visibility": null,
            "width": null
          }
        },
        "4427c67b5d214093a90bde80d89a6326": {
          "model_module": "@jupyter-widgets/controls",
          "model_name": "DescriptionStyleModel",
          "model_module_version": "1.5.0",
          "state": {
            "_model_module": "@jupyter-widgets/controls",
            "_model_module_version": "1.5.0",
            "_model_name": "DescriptionStyleModel",
            "_view_count": null,
            "_view_module": "@jupyter-widgets/base",
            "_view_module_version": "1.2.0",
            "_view_name": "StyleView",
            "description_width": ""
          }
        },
        "bb2f11a9acd04c0bbae2e56b53a4d835": {
          "model_module": "@jupyter-widgets/base",
          "model_name": "LayoutModel",
          "model_module_version": "1.2.0",
          "state": {
            "_model_module": "@jupyter-widgets/base",
            "_model_module_version": "1.2.0",
            "_model_name": "LayoutModel",
            "_view_count": null,
            "_view_module": "@jupyter-widgets/base",
            "_view_module_version": "1.2.0",
            "_view_name": "LayoutView",
            "align_content": null,
            "align_items": null,
            "align_self": null,
            "border": null,
            "bottom": null,
            "display": null,
            "flex": null,
            "flex_flow": null,
            "grid_area": null,
            "grid_auto_columns": null,
            "grid_auto_flow": null,
            "grid_auto_rows": null,
            "grid_column": null,
            "grid_gap": null,
            "grid_row": null,
            "grid_template_areas": null,
            "grid_template_columns": null,
            "grid_template_rows": null,
            "height": null,
            "justify_content": null,
            "justify_items": null,
            "left": null,
            "margin": null,
            "max_height": null,
            "max_width": null,
            "min_height": null,
            "min_width": null,
            "object_fit": null,
            "object_position": null,
            "order": null,
            "overflow": null,
            "overflow_x": null,
            "overflow_y": null,
            "padding": null,
            "right": null,
            "top": null,
            "visibility": null,
            "width": null
          }
        },
        "dace3e542d3b477c99fd974a5c775f9a": {
          "model_module": "@jupyter-widgets/controls",
          "model_name": "DescriptionStyleModel",
          "model_module_version": "1.5.0",
          "state": {
            "_model_module": "@jupyter-widgets/controls",
            "_model_module_version": "1.5.0",
            "_model_name": "DescriptionStyleModel",
            "_view_count": null,
            "_view_module": "@jupyter-widgets/base",
            "_view_module_version": "1.2.0",
            "_view_name": "StyleView",
            "description_width": ""
          }
        },
        "c612c82b289f4cf5ba90f2ec88394cd4": {
          "model_module": "@jupyter-widgets/base",
          "model_name": "LayoutModel",
          "model_module_version": "1.2.0",
          "state": {
            "_model_module": "@jupyter-widgets/base",
            "_model_module_version": "1.2.0",
            "_model_name": "LayoutModel",
            "_view_count": null,
            "_view_module": "@jupyter-widgets/base",
            "_view_module_version": "1.2.0",
            "_view_name": "LayoutView",
            "align_content": null,
            "align_items": null,
            "align_self": null,
            "border": null,
            "bottom": null,
            "display": null,
            "flex": null,
            "flex_flow": null,
            "grid_area": null,
            "grid_auto_columns": null,
            "grid_auto_flow": null,
            "grid_auto_rows": null,
            "grid_column": null,
            "grid_gap": null,
            "grid_row": null,
            "grid_template_areas": null,
            "grid_template_columns": null,
            "grid_template_rows": null,
            "height": null,
            "justify_content": null,
            "justify_items": null,
            "left": null,
            "margin": null,
            "max_height": null,
            "max_width": null,
            "min_height": null,
            "min_width": null,
            "object_fit": null,
            "object_position": null,
            "order": null,
            "overflow": null,
            "overflow_x": null,
            "overflow_y": null,
            "padding": null,
            "right": null,
            "top": null,
            "visibility": null,
            "width": null
          }
        },
        "67539c1f926e4a23aed412cc68ac10b0": {
          "model_module": "@jupyter-widgets/controls",
          "model_name": "DescriptionStyleModel",
          "model_module_version": "1.5.0",
          "state": {
            "_model_module": "@jupyter-widgets/controls",
            "_model_module_version": "1.5.0",
            "_model_name": "DescriptionStyleModel",
            "_view_count": null,
            "_view_module": "@jupyter-widgets/base",
            "_view_module_version": "1.2.0",
            "_view_name": "StyleView",
            "description_width": ""
          }
        },
        "01d9a8bcb9f343b6bed53bc98efdaf98": {
          "model_module": "@jupyter-widgets/base",
          "model_name": "LayoutModel",
          "model_module_version": "1.2.0",
          "state": {
            "_model_module": "@jupyter-widgets/base",
            "_model_module_version": "1.2.0",
            "_model_name": "LayoutModel",
            "_view_count": null,
            "_view_module": "@jupyter-widgets/base",
            "_view_module_version": "1.2.0",
            "_view_name": "LayoutView",
            "align_content": null,
            "align_items": null,
            "align_self": null,
            "border": null,
            "bottom": null,
            "display": null,
            "flex": null,
            "flex_flow": null,
            "grid_area": null,
            "grid_auto_columns": null,
            "grid_auto_flow": null,
            "grid_auto_rows": null,
            "grid_column": null,
            "grid_gap": null,
            "grid_row": null,
            "grid_template_areas": null,
            "grid_template_columns": null,
            "grid_template_rows": null,
            "height": null,
            "justify_content": null,
            "justify_items": null,
            "left": null,
            "margin": null,
            "max_height": null,
            "max_width": null,
            "min_height": null,
            "min_width": null,
            "object_fit": null,
            "object_position": null,
            "order": null,
            "overflow": null,
            "overflow_x": null,
            "overflow_y": null,
            "padding": null,
            "right": null,
            "top": null,
            "visibility": null,
            "width": null
          }
        },
        "cca1a03f1bea49d69e7d591c6963ccde": {
          "model_module": "@jupyter-widgets/controls",
          "model_name": "ButtonStyleModel",
          "model_module_version": "1.5.0",
          "state": {
            "_model_module": "@jupyter-widgets/controls",
            "_model_module_version": "1.5.0",
            "_model_name": "ButtonStyleModel",
            "_view_count": null,
            "_view_module": "@jupyter-widgets/base",
            "_view_module_version": "1.2.0",
            "_view_name": "StyleView",
            "button_color": null,
            "font_weight": ""
          }
        },
        "09bdf468290c4862a83b498f87a8dde6": {
          "model_module": "@jupyter-widgets/base",
          "model_name": "LayoutModel",
          "model_module_version": "1.2.0",
          "state": {
            "_model_module": "@jupyter-widgets/base",
            "_model_module_version": "1.2.0",
            "_model_name": "LayoutModel",
            "_view_count": null,
            "_view_module": "@jupyter-widgets/base",
            "_view_module_version": "1.2.0",
            "_view_name": "LayoutView",
            "align_content": null,
            "align_items": null,
            "align_self": null,
            "border": null,
            "bottom": null,
            "display": null,
            "flex": null,
            "flex_flow": null,
            "grid_area": null,
            "grid_auto_columns": null,
            "grid_auto_flow": null,
            "grid_auto_rows": null,
            "grid_column": null,
            "grid_gap": null,
            "grid_row": null,
            "grid_template_areas": null,
            "grid_template_columns": null,
            "grid_template_rows": null,
            "height": null,
            "justify_content": null,
            "justify_items": null,
            "left": null,
            "margin": null,
            "max_height": null,
            "max_width": null,
            "min_height": null,
            "min_width": null,
            "object_fit": null,
            "object_position": null,
            "order": null,
            "overflow": null,
            "overflow_x": null,
            "overflow_y": null,
            "padding": null,
            "right": null,
            "top": null,
            "visibility": null,
            "width": null
          }
        },
        "6d2584bcb62f4f0fa1825f84e238a2aa": {
          "model_module": "@jupyter-widgets/controls",
          "model_name": "DescriptionStyleModel",
          "model_module_version": "1.5.0",
          "state": {
            "_model_module": "@jupyter-widgets/controls",
            "_model_module_version": "1.5.0",
            "_model_name": "DescriptionStyleModel",
            "_view_count": null,
            "_view_module": "@jupyter-widgets/base",
            "_view_module_version": "1.2.0",
            "_view_name": "StyleView",
            "description_width": ""
          }
        }
      }
    }
  },
  "nbformat_minor": 0,
  "nbformat": 4,
  "cells": [
    {
      "cell_type": "markdown",
      "metadata": {
        "id": "view-in-github",
        "colab_type": "text"
      },
      "source": [
        "<a href=\"https://colab.research.google.com/github/abhiraj7821/AIML-Projects/blob/main/Kaggle%20Compititions/Titanic_Dataset_Prediction.ipynb\" target=\"_parent\"><img src=\"https://colab.research.google.com/assets/colab-badge.svg\" alt=\"Open In Colab\"/></a>"
      ]
    },
    {
      "source": [
        "# IMPORTANT: SOME KAGGLE DATA SOURCES ARE PRIVATE\n",
        "# RUN THIS CELL IN ORDER TO IMPORT YOUR KAGGLE DATA SOURCES.\n",
        "import kagglehub\n",
        "kagglehub.login()\n"
      ],
      "metadata": {
        "colab": {
          "base_uri": "https://localhost:8080/",
          "height": 301,
          "referenced_widgets": [
            "702061be3a284e058d5fc753e62c8132",
            "c46efef48ac042e28895d1bd5e7bf33a",
            "59761905751b4117887e906656f12eb3",
            "577e04e221934685a81431df94893cf1",
            "9574a7f0189646449d932b0dc69aca73",
            "ef264a7210d24ddf90f787bce8796a0c",
            "932322ac69094a85b2ba8215d2661a4d",
            "2e87ed7ab9f54d2e8629e8d7c2b01c6a",
            "4427c67b5d214093a90bde80d89a6326",
            "bb2f11a9acd04c0bbae2e56b53a4d835",
            "dace3e542d3b477c99fd974a5c775f9a",
            "c612c82b289f4cf5ba90f2ec88394cd4",
            "67539c1f926e4a23aed412cc68ac10b0",
            "01d9a8bcb9f343b6bed53bc98efdaf98",
            "cca1a03f1bea49d69e7d591c6963ccde",
            "09bdf468290c4862a83b498f87a8dde6",
            "6d2584bcb62f4f0fa1825f84e238a2aa"
          ]
        },
        "id": "SiO1meXSDVXm",
        "outputId": "b6a519c4-4ffc-4d05-860b-6e27d2827508"
      },
      "cell_type": "code",
      "outputs": [
        {
          "output_type": "display_data",
          "data": {
            "text/plain": [
              "VBox(children=(HTML(value='<center> <img\\nsrc=https://www.kaggle.com/static/images/site-logo.png\\nalt=\\'Kaggle…"
            ],
            "application/vnd.jupyter.widget-view+json": {
              "version_major": 2,
              "version_minor": 0,
              "model_id": "702061be3a284e058d5fc753e62c8132"
            }
          },
          "metadata": {}
        }
      ],
      "execution_count": 1
    },
    {
      "source": [
        "# IMPORTANT: RUN THIS CELL IN ORDER TO IMPORT YOUR KAGGLE DATA SOURCES,\n",
        "# THEN FEEL FREE TO DELETE THIS CELL.\n",
        "# NOTE: THIS NOTEBOOK ENVIRONMENT DIFFERS FROM KAGGLE'S PYTHON\n",
        "# ENVIRONMENT SO THERE MAY BE MISSING LIBRARIES USED BY YOUR\n",
        "# NOTEBOOK.\n",
        "\n",
        "titanic_path = kagglehub.competition_download('titanic')\n",
        "\n",
        "print('Data source import complete.')\n"
      ],
      "metadata": {
        "colab": {
          "base_uri": "https://localhost:8080/",
          "height": 356
        },
        "id": "0YHChzo9DVXn",
        "outputId": "dba4aca9-64d5-41d1-bc82-f7e160ab05eb"
      },
      "cell_type": "code",
      "outputs": [
        {
          "output_type": "error",
          "ename": "UnauthenticatedError",
          "evalue": "User is not authenticated",
          "traceback": [
            "\u001b[0;31m---------------------------------------------------------------------------\u001b[0m",
            "\u001b[0;31mUnauthenticatedError\u001b[0m                      Traceback (most recent call last)",
            "\u001b[0;32m<ipython-input-2-decc90687a4d>\u001b[0m in \u001b[0;36m<cell line: 0>\u001b[0;34m()\u001b[0m\n\u001b[1;32m      5\u001b[0m \u001b[0;31m# NOTEBOOK.\u001b[0m\u001b[0;34m\u001b[0m\u001b[0;34m\u001b[0m\u001b[0m\n\u001b[1;32m      6\u001b[0m \u001b[0;34m\u001b[0m\u001b[0m\n\u001b[0;32m----> 7\u001b[0;31m \u001b[0mtitanic_path\u001b[0m \u001b[0;34m=\u001b[0m \u001b[0mkagglehub\u001b[0m\u001b[0;34m.\u001b[0m\u001b[0mcompetition_download\u001b[0m\u001b[0;34m(\u001b[0m\u001b[0;34m'titanic'\u001b[0m\u001b[0;34m)\u001b[0m\u001b[0;34m\u001b[0m\u001b[0;34m\u001b[0m\u001b[0m\n\u001b[0m\u001b[1;32m      8\u001b[0m \u001b[0;34m\u001b[0m\u001b[0m\n\u001b[1;32m      9\u001b[0m \u001b[0mprint\u001b[0m\u001b[0;34m(\u001b[0m\u001b[0;34m'Data source import complete.'\u001b[0m\u001b[0;34m)\u001b[0m\u001b[0;34m\u001b[0m\u001b[0;34m\u001b[0m\u001b[0m\n",
            "\u001b[0;32m/usr/local/lib/python3.11/dist-packages/kagglehub/competition.py\u001b[0m in \u001b[0;36mcompetition_download\u001b[0;34m(handle, path, force_download)\u001b[0m\n\u001b[1;32m     21\u001b[0m     \u001b[0mh\u001b[0m \u001b[0;34m=\u001b[0m \u001b[0mparse_competition_handle\u001b[0m\u001b[0;34m(\u001b[0m\u001b[0mhandle\u001b[0m\u001b[0;34m)\u001b[0m\u001b[0;34m\u001b[0m\u001b[0;34m\u001b[0m\u001b[0m\n\u001b[1;32m     22\u001b[0m     \u001b[0mlogger\u001b[0m\u001b[0;34m.\u001b[0m\u001b[0minfo\u001b[0m\u001b[0;34m(\u001b[0m\u001b[0;34mf\"Downloading competition: {h.to_url()} ...\"\u001b[0m\u001b[0;34m,\u001b[0m \u001b[0mextra\u001b[0m\u001b[0;34m=\u001b[0m\u001b[0;34m{\u001b[0m\u001b[0;34m**\u001b[0m\u001b[0mEXTRA_CONSOLE_BLOCK\u001b[0m\u001b[0;34m}\u001b[0m\u001b[0;34m)\u001b[0m\u001b[0;34m\u001b[0m\u001b[0;34m\u001b[0m\u001b[0m\n\u001b[0;32m---> 23\u001b[0;31m     \u001b[0;32mreturn\u001b[0m \u001b[0mregistry\u001b[0m\u001b[0;34m.\u001b[0m\u001b[0mcompetition_resolver\u001b[0m\u001b[0;34m(\u001b[0m\u001b[0mh\u001b[0m\u001b[0;34m,\u001b[0m \u001b[0mpath\u001b[0m\u001b[0;34m,\u001b[0m \u001b[0mforce_download\u001b[0m\u001b[0;34m=\u001b[0m\u001b[0mforce_download\u001b[0m\u001b[0;34m)\u001b[0m\u001b[0;34m\u001b[0m\u001b[0;34m\u001b[0m\u001b[0m\n\u001b[0m",
            "\u001b[0;32m/usr/local/lib/python3.11/dist-packages/kagglehub/registry.py\u001b[0m in \u001b[0;36m__call__\u001b[0;34m(self, *args, **kwargs)\u001b[0m\n\u001b[1;32m     26\u001b[0m         \u001b[0;32mfor\u001b[0m \u001b[0mimpl\u001b[0m \u001b[0;32min\u001b[0m \u001b[0mreversed\u001b[0m\u001b[0;34m(\u001b[0m\u001b[0mself\u001b[0m\u001b[0;34m.\u001b[0m\u001b[0m_impls\u001b[0m\u001b[0;34m)\u001b[0m\u001b[0;34m:\u001b[0m\u001b[0;34m\u001b[0m\u001b[0;34m\u001b[0m\u001b[0m\n\u001b[1;32m     27\u001b[0m             \u001b[0;32mif\u001b[0m \u001b[0mimpl\u001b[0m\u001b[0;34m.\u001b[0m\u001b[0mis_supported\u001b[0m\u001b[0;34m(\u001b[0m\u001b[0;34m*\u001b[0m\u001b[0margs\u001b[0m\u001b[0;34m,\u001b[0m \u001b[0;34m**\u001b[0m\u001b[0mkwargs\u001b[0m\u001b[0;34m)\u001b[0m\u001b[0;34m:\u001b[0m\u001b[0;34m\u001b[0m\u001b[0;34m\u001b[0m\u001b[0m\n\u001b[0;32m---> 28\u001b[0;31m                 \u001b[0;32mreturn\u001b[0m \u001b[0mimpl\u001b[0m\u001b[0;34m(\u001b[0m\u001b[0;34m*\u001b[0m\u001b[0margs\u001b[0m\u001b[0;34m,\u001b[0m \u001b[0;34m**\u001b[0m\u001b[0mkwargs\u001b[0m\u001b[0;34m)\u001b[0m\u001b[0;34m\u001b[0m\u001b[0;34m\u001b[0m\u001b[0m\n\u001b[0m\u001b[1;32m     29\u001b[0m             \u001b[0;32melse\u001b[0m\u001b[0;34m:\u001b[0m\u001b[0;34m\u001b[0m\u001b[0;34m\u001b[0m\u001b[0m\n\u001b[1;32m     30\u001b[0m                 \u001b[0mfails\u001b[0m\u001b[0;34m.\u001b[0m\u001b[0mappend\u001b[0m\u001b[0;34m(\u001b[0m\u001b[0mtype\u001b[0m\u001b[0;34m(\u001b[0m\u001b[0mimpl\u001b[0m\u001b[0;34m)\u001b[0m\u001b[0;34m.\u001b[0m\u001b[0m__name__\u001b[0m\u001b[0;34m)\u001b[0m\u001b[0;34m\u001b[0m\u001b[0;34m\u001b[0m\u001b[0m\n",
            "\u001b[0;32m/usr/local/lib/python3.11/dist-packages/kagglehub/http_resolver.py\u001b[0m in \u001b[0;36m__call__\u001b[0;34m(self, h, path, force_download)\u001b[0m\n\u001b[1;32m     47\u001b[0m             \u001b[0;32mif\u001b[0m \u001b[0mcached_path\u001b[0m\u001b[0;34m:\u001b[0m\u001b[0;34m\u001b[0m\u001b[0;34m\u001b[0m\u001b[0m\n\u001b[1;32m     48\u001b[0m                 \u001b[0;32mreturn\u001b[0m \u001b[0mcached_path\u001b[0m\u001b[0;34m\u001b[0m\u001b[0;34m\u001b[0m\u001b[0m\n\u001b[0;32m---> 49\u001b[0;31m             \u001b[0;32mraise\u001b[0m \u001b[0mUnauthenticatedError\u001b[0m\u001b[0;34m(\u001b[0m\u001b[0;34m)\u001b[0m\u001b[0;34m\u001b[0m\u001b[0;34m\u001b[0m\u001b[0m\n\u001b[0m\u001b[1;32m     50\u001b[0m \u001b[0;34m\u001b[0m\u001b[0m\n\u001b[1;32m     51\u001b[0m         \u001b[0mout_path\u001b[0m \u001b[0;34m=\u001b[0m \u001b[0mget_cached_path\u001b[0m\u001b[0;34m(\u001b[0m\u001b[0mh\u001b[0m\u001b[0;34m,\u001b[0m \u001b[0mpath\u001b[0m\u001b[0;34m)\u001b[0m\u001b[0;34m\u001b[0m\u001b[0;34m\u001b[0m\u001b[0m\n",
            "\u001b[0;31mUnauthenticatedError\u001b[0m: User is not authenticated"
          ]
        }
      ],
      "execution_count": 2
    },
    {
      "cell_type": "code",
      "source": [
        "# This Python 3 environment comes with many helpful analytics libraries installed\n",
        "# It is defined by the kaggle/python Docker image: https://github.com/kaggle/docker-python\n",
        "# For example, here's several helpful packages to load\n",
        "\n",
        "import numpy as np # linear algebra\n",
        "import pandas as pd # data processing, CSV file I/O (e.g. pd.read_csv)\n",
        "\n",
        "# Input data files are available in the read-only \"../input/\" directory\n",
        "# For example, running this (by clicking run or pressing Shift+Enter) will list all files under the input directory\n",
        "\n",
        "import os\n",
        "for dirname, _, filenames in os.walk('/kaggle/input'):\n",
        "    for filename in filenames:\n",
        "        print(os.path.join(dirname, filename))\n",
        "\n",
        "# You can write up to 20GB to the current directory (/kaggle/working/) that gets preserved as output when you create a version using \"Save & Run All\"\n",
        "# You can also write temporary files to /kaggle/temp/, but they won't be saved outside of the current session"
      ],
      "metadata": {
        "_uuid": "8f2839f25d086af736a60e9eeb907d3b93b6e0e5",
        "_cell_guid": "b1076dfc-b9ad-4769-8c92-a6c4dae69d19",
        "trusted": true,
        "execution": {
          "iopub.status.busy": "2025-02-16T13:34:15.914041Z",
          "iopub.execute_input": "2025-02-16T13:34:15.91443Z",
          "iopub.status.idle": "2025-02-16T13:34:15.921294Z",
          "shell.execute_reply.started": "2025-02-16T13:34:15.914398Z",
          "shell.execute_reply": "2025-02-16T13:34:15.920058Z"
        },
        "id": "flYCjDkQDVXo"
      },
      "outputs": [],
      "execution_count": null
    },
    {
      "cell_type": "code",
      "source": [
        "#Importing required\n",
        "import pandas as pd\n",
        "import numpy as np\n",
        "import matplotlib.pyplot as plt\n",
        "#EDA-Ecploratory Data Analysis\n",
        "#Load the Dataset\n",
        "titanic_train_df=pd.read_csv('/kaggle/input/titanic/train.csv')\n",
        "titanic_test_df=pd.read_csv('/kaggle/input/titanic/test.csv')\n",
        "print(\"Shape of titanic_train_df\",titanic_train_df.shape)\n",
        "print(\"Shape of titanic_test_df\",titanic_test_df.shape)"
      ],
      "metadata": {
        "trusted": true,
        "execution": {
          "iopub.status.busy": "2025-02-16T13:34:15.922715Z",
          "iopub.execute_input": "2025-02-16T13:34:15.923072Z",
          "iopub.status.idle": "2025-02-16T13:34:15.95655Z",
          "shell.execute_reply.started": "2025-02-16T13:34:15.923041Z",
          "shell.execute_reply": "2025-02-16T13:34:15.95553Z"
        },
        "id": "g5Ufle1RDVXo"
      },
      "outputs": [],
      "execution_count": null
    },
    {
      "cell_type": "code",
      "source": [
        "#Understanding the data\n",
        "titanic_train_df.head()"
      ],
      "metadata": {
        "trusted": true,
        "execution": {
          "iopub.status.busy": "2025-02-16T13:34:15.958147Z",
          "iopub.execute_input": "2025-02-16T13:34:15.958544Z",
          "iopub.status.idle": "2025-02-16T13:34:15.973199Z",
          "shell.execute_reply.started": "2025-02-16T13:34:15.958508Z",
          "shell.execute_reply": "2025-02-16T13:34:15.971769Z"
        },
        "id": "_Mj46eCqDVXp"
      },
      "outputs": [],
      "execution_count": null
    },
    {
      "cell_type": "code",
      "source": [
        "titanic_test_df.head()"
      ],
      "metadata": {
        "trusted": true,
        "execution": {
          "iopub.status.busy": "2025-02-16T13:34:15.97476Z",
          "iopub.execute_input": "2025-02-16T13:34:15.975071Z",
          "iopub.status.idle": "2025-02-16T13:34:16.000584Z",
          "shell.execute_reply.started": "2025-02-16T13:34:15.975036Z",
          "shell.execute_reply": "2025-02-16T13:34:15.999339Z"
        },
        "id": "5sIw6uTRDVXp"
      },
      "outputs": [],
      "execution_count": null
    },
    {
      "cell_type": "code",
      "source": [
        "titanic_train_df.describe()"
      ],
      "metadata": {
        "trusted": true,
        "execution": {
          "iopub.status.busy": "2025-02-16T13:34:16.001325Z",
          "iopub.execute_input": "2025-02-16T13:34:16.001682Z",
          "iopub.status.idle": "2025-02-16T13:34:16.039961Z",
          "shell.execute_reply.started": "2025-02-16T13:34:16.001655Z",
          "shell.execute_reply": "2025-02-16T13:34:16.038829Z"
        },
        "id": "ArJy2ttwDVXp"
      },
      "outputs": [],
      "execution_count": null
    },
    {
      "cell_type": "code",
      "source": [
        "titanic_test_df.describe()"
      ],
      "metadata": {
        "trusted": true,
        "execution": {
          "iopub.status.busy": "2025-02-16T13:34:16.041976Z",
          "iopub.execute_input": "2025-02-16T13:34:16.042327Z",
          "iopub.status.idle": "2025-02-16T13:34:16.069938Z",
          "shell.execute_reply.started": "2025-02-16T13:34:16.042298Z",
          "shell.execute_reply": "2025-02-16T13:34:16.068658Z"
        },
        "id": "SGRyfS8zDVXp"
      },
      "outputs": [],
      "execution_count": null
    },
    {
      "cell_type": "code",
      "source": [
        "#finding if dataset have NaN values\n",
        "titanic_train_df.isnull().sum()"
      ],
      "metadata": {
        "trusted": true,
        "execution": {
          "iopub.status.busy": "2025-02-16T13:34:16.071189Z",
          "iopub.execute_input": "2025-02-16T13:34:16.071539Z",
          "iopub.status.idle": "2025-02-16T13:34:16.079943Z",
          "shell.execute_reply.started": "2025-02-16T13:34:16.071512Z",
          "shell.execute_reply": "2025-02-16T13:34:16.078815Z"
        },
        "id": "Tic0FVrhDVXq"
      },
      "outputs": [],
      "execution_count": null
    },
    {
      "cell_type": "code",
      "source": [
        "#finding if test dataset have NaN values\n",
        "titanic_test_df.isnull().sum()"
      ],
      "metadata": {
        "trusted": true,
        "execution": {
          "iopub.status.busy": "2025-02-16T13:34:16.08124Z",
          "iopub.execute_input": "2025-02-16T13:34:16.081705Z",
          "iopub.status.idle": "2025-02-16T13:34:16.100634Z",
          "shell.execute_reply.started": "2025-02-16T13:34:16.081662Z",
          "shell.execute_reply": "2025-02-16T13:34:16.099602Z"
        },
        "id": "4OUInd_EDVXq"
      },
      "outputs": [],
      "execution_count": null
    },
    {
      "cell_type": "code",
      "source": [
        "#Handing NaN values-> using mean i.e we have NaN values in Age column\n",
        "titanic_train_df['Age'].fillna(titanic_train_df['Age'].mean(),inplace=True)\n",
        "#finding if dataset have NaN values\n",
        "titanic_train_df.isnull().sum()"
      ],
      "metadata": {
        "trusted": true,
        "execution": {
          "iopub.status.busy": "2025-02-16T13:34:16.101887Z",
          "iopub.execute_input": "2025-02-16T13:34:16.102175Z",
          "iopub.status.idle": "2025-02-16T13:34:16.121885Z",
          "shell.execute_reply.started": "2025-02-16T13:34:16.10215Z",
          "shell.execute_reply": "2025-02-16T13:34:16.120676Z"
        },
        "id": "_M4K-FFFDVXq"
      },
      "outputs": [],
      "execution_count": null
    },
    {
      "cell_type": "code",
      "source": [
        "#Handing NaN values-> using mean i.e we have NaN values in Age column\n",
        "titanic_test_df['Age'].fillna(titanic_test_df['Age'].mean(),inplace=True)\n",
        "titanic_test_df['Fare'].fillna(titanic_test_df['Fare'].mean(),inplace=True)\n",
        "#finding if dataset have NaN values\n",
        "titanic_test_df.isnull().sum()"
      ],
      "metadata": {
        "trusted": true,
        "execution": {
          "iopub.status.busy": "2025-02-16T13:34:16.125321Z",
          "iopub.execute_input": "2025-02-16T13:34:16.125745Z",
          "iopub.status.idle": "2025-02-16T13:34:16.14284Z",
          "shell.execute_reply.started": "2025-02-16T13:34:16.125695Z",
          "shell.execute_reply": "2025-02-16T13:34:16.14153Z"
        },
        "id": "dKx0eBHcDVXq"
      },
      "outputs": [],
      "execution_count": null
    },
    {
      "cell_type": "code",
      "source": [
        "#prepare X_train,y_train,X_test,y_test\n",
        "#Feature Engneering\n",
        "titanic_train_df['Sex'] = titanic_train_df['Sex'].str.lower().str.strip().map({'male': 0, 'female': 1})\n",
        "titanic_test_df['Sex'] = titanic_test_df['Sex'].str.lower().str.strip().map({'male': 0, 'female':1})"
      ],
      "metadata": {
        "trusted": true,
        "execution": {
          "iopub.status.busy": "2025-02-16T13:34:16.14436Z",
          "iopub.execute_input": "2025-02-16T13:34:16.144789Z",
          "iopub.status.idle": "2025-02-16T13:34:16.168696Z",
          "shell.execute_reply.started": "2025-02-16T13:34:16.144757Z",
          "shell.execute_reply": "2025-02-16T13:34:16.167581Z"
        },
        "id": "g4n9mt2eDVXr"
      },
      "outputs": [],
      "execution_count": null
    },
    {
      "cell_type": "code",
      "source": [
        "#Defining X_train,y_train\n",
        "X_train=titanic_train_df[['Pclass','Sex','Age','SibSp','Parch','Fare']]\n",
        "y_train=titanic_train_df['Survived']"
      ],
      "metadata": {
        "trusted": true,
        "execution": {
          "iopub.status.busy": "2025-02-16T13:34:16.17048Z",
          "iopub.execute_input": "2025-02-16T13:34:16.170844Z",
          "iopub.status.idle": "2025-02-16T13:34:16.187887Z",
          "shell.execute_reply.started": "2025-02-16T13:34:16.170816Z",
          "shell.execute_reply": "2025-02-16T13:34:16.186686Z"
        },
        "id": "fH2am5O5DVXr"
      },
      "outputs": [],
      "execution_count": null
    },
    {
      "cell_type": "code",
      "source": [
        "X_train.isnull().sum()"
      ],
      "metadata": {
        "trusted": true,
        "execution": {
          "iopub.status.busy": "2025-02-16T13:34:16.189758Z",
          "iopub.execute_input": "2025-02-16T13:34:16.190197Z",
          "iopub.status.idle": "2025-02-16T13:34:16.207551Z",
          "shell.execute_reply.started": "2025-02-16T13:34:16.190164Z",
          "shell.execute_reply": "2025-02-16T13:34:16.206537Z"
        },
        "id": "9aNgP_kHDVXr"
      },
      "outputs": [],
      "execution_count": null
    },
    {
      "cell_type": "code",
      "source": [
        "y_train.isnull().sum()"
      ],
      "metadata": {
        "trusted": true,
        "execution": {
          "iopub.status.busy": "2025-02-16T13:34:16.20875Z",
          "iopub.execute_input": "2025-02-16T13:34:16.209147Z",
          "iopub.status.idle": "2025-02-16T13:34:16.226946Z",
          "shell.execute_reply.started": "2025-02-16T13:34:16.209108Z",
          "shell.execute_reply": "2025-02-16T13:34:16.225834Z"
        },
        "id": "0jioKkqaDVXr"
      },
      "outputs": [],
      "execution_count": null
    },
    {
      "cell_type": "code",
      "source": [
        "#Defining y_test\n",
        "X_test=titanic_test_df[['Pclass','Sex','Age','SibSp','Parch','Fare']]\n",
        "X_test.isnull().sum()"
      ],
      "metadata": {
        "trusted": true,
        "execution": {
          "iopub.status.busy": "2025-02-16T13:34:16.22803Z",
          "iopub.execute_input": "2025-02-16T13:34:16.228397Z",
          "iopub.status.idle": "2025-02-16T13:34:16.247923Z",
          "shell.execute_reply.started": "2025-02-16T13:34:16.228359Z",
          "shell.execute_reply": "2025-02-16T13:34:16.246541Z"
        },
        "id": "pc9lsEa3DVXr"
      },
      "outputs": [],
      "execution_count": null
    },
    {
      "cell_type": "code",
      "source": [
        "# Model Preperation\n",
        "from sklearn.linear_model import LinearRegression\n",
        "model=LinearRegression()\n",
        "#train the model\n",
        "model.fit(X_train,y_train)\n",
        "#test the model\n",
        "y_pred=model.predict(X_test)\n",
        "y_pred"
      ],
      "metadata": {
        "trusted": true,
        "execution": {
          "iopub.status.busy": "2025-02-16T13:34:16.248969Z",
          "iopub.execute_input": "2025-02-16T13:34:16.249369Z",
          "iopub.status.idle": "2025-02-16T13:34:16.275158Z",
          "shell.execute_reply.started": "2025-02-16T13:34:16.249336Z",
          "shell.execute_reply": "2025-02-16T13:34:16.273968Z"
        },
        "id": "yHoLjqJBDVXs"
      },
      "outputs": [],
      "execution_count": null
    },
    {
      "cell_type": "code",
      "source": [
        "print(\"Shape of titanic_train_df\",titanic_train_df.shape)\n",
        "print(\"Shape of titanic_test_df\",titanic_test_df.shape)"
      ],
      "metadata": {
        "trusted": true,
        "execution": {
          "iopub.status.busy": "2025-02-16T13:34:16.277881Z",
          "iopub.execute_input": "2025-02-16T13:34:16.278195Z",
          "iopub.status.idle": "2025-02-16T13:34:16.285012Z",
          "shell.execute_reply.started": "2025-02-16T13:34:16.278168Z",
          "shell.execute_reply": "2025-02-16T13:34:16.283796Z"
        },
        "id": "_oyvTQwIDVXs"
      },
      "outputs": [],
      "execution_count": null
    },
    {
      "cell_type": "code",
      "source": [
        "y_pred_df=pd.DataFrame(y_pred)\n",
        "y_pred_df = (y_pred_df >= 0.6).astype(int)\n",
        "test_PassengerIds=titanic_test_df['PassengerId']"
      ],
      "metadata": {
        "trusted": true,
        "execution": {
          "iopub.status.busy": "2025-02-16T13:34:16.286106Z",
          "iopub.execute_input": "2025-02-16T13:34:16.286441Z",
          "iopub.status.idle": "2025-02-16T13:34:16.302948Z",
          "shell.execute_reply.started": "2025-02-16T13:34:16.286414Z",
          "shell.execute_reply": "2025-02-16T13:34:16.301667Z"
        },
        "id": "GS707aUsDVXs"
      },
      "outputs": [],
      "execution_count": null
    },
    {
      "cell_type": "code",
      "source": [
        "import pandas as pd\n",
        "\n",
        "# Ensure both are 1D Series\n",
        "y_pred_df = y_pred_df.squeeze().reset_index(drop=True)\n",
        "test_PassengerIds = test_PassengerIds.squeeze().reset_index(drop=True)\n",
        "\n",
        "# Combine into a DataFrame\n",
        "gender_submission_Final_pridiction = pd.DataFrame({\n",
        "    'PassengerId': test_PassengerIds,\n",
        "    'Survived': y_pred_df\n",
        "})\n",
        "\n",
        "\n",
        "gender_submission_Final_pridiction"
      ],
      "metadata": {
        "trusted": true,
        "execution": {
          "iopub.status.busy": "2025-02-16T13:34:16.3042Z",
          "iopub.execute_input": "2025-02-16T13:34:16.30459Z",
          "iopub.status.idle": "2025-02-16T13:34:16.326189Z",
          "shell.execute_reply.started": "2025-02-16T13:34:16.304561Z",
          "shell.execute_reply": "2025-02-16T13:34:16.325074Z"
        },
        "id": "8IoUdARHDVXs"
      },
      "outputs": [],
      "execution_count": null
    },
    {
      "cell_type": "code",
      "source": [
        "#Generating a Csv Fine for Pridiction\n",
        "gender_submission_Final_pridiction.to_csv('gender_submission_Final_pridiction.csv', index=False)"
      ],
      "metadata": {
        "trusted": true,
        "execution": {
          "iopub.status.busy": "2025-02-16T13:50:43.432723Z",
          "iopub.execute_input": "2025-02-16T13:50:43.433168Z",
          "iopub.status.idle": "2025-02-16T13:50:43.439442Z",
          "shell.execute_reply.started": "2025-02-16T13:50:43.433135Z",
          "shell.execute_reply": "2025-02-16T13:50:43.43843Z"
        },
        "id": "SnuGruRVDVXt"
      },
      "outputs": [],
      "execution_count": null
    }
  ]
}